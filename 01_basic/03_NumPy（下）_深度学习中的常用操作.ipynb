{
 "cells": [
  {
   "cell_type": "code",
   "execution_count": 2,
   "metadata": {},
   "outputs": [
    {
     "data": {
      "text/plain": [
       "(321, 113)"
      ]
     },
     "execution_count": 2,
     "metadata": {},
     "output_type": "execute_result"
    }
   ],
   "source": [
    "from PIL import Image\n",
    "\n",
    "im = Image.open('jk.jpg')\n",
    "im.size"
   ]
  },
  {
   "cell_type": "code",
   "execution_count": 3,
   "metadata": {},
   "outputs": [
    {
     "data": {
      "text/plain": [
       "(113, 321, 3)"
      ]
     },
     "execution_count": 3,
     "metadata": {},
     "output_type": "execute_result"
    }
   ],
   "source": [
    "import numpy as np\n",
    "\n",
    "im_pillow = np.asarray(im)\n",
    "im_pillow.shape"
   ]
  },
  {
   "cell_type": "code",
   "execution_count": 4,
   "metadata": {},
   "outputs": [
    {
     "data": {
      "text/plain": [
       "numpy.ndarray"
      ]
     },
     "execution_count": 4,
     "metadata": {},
     "output_type": "execute_result"
    }
   ],
   "source": [
    "import cv2 as cv\n",
    "\n",
    "im_cv2 = cv.imread('jk.jpg')\n",
    "type(im_cv2)"
   ]
  },
  {
   "cell_type": "code",
   "execution_count": 5,
   "metadata": {},
   "outputs": [
    {
     "data": {
      "text/plain": [
       "(113, 321, 3)"
      ]
     },
     "execution_count": 5,
     "metadata": {},
     "output_type": "execute_result"
    }
   ],
   "source": [
    "im_cv2.shape"
   ]
  },
  {
   "cell_type": "code",
   "execution_count": 6,
   "metadata": {},
   "outputs": [
    {
     "data": {
      "text/plain": [
       "array([[255, 255, 255, ..., 255, 255, 255],\n",
       "       [255, 255, 255, ..., 255, 255, 255],\n",
       "       [255, 255, 255, ..., 255, 255, 255],\n",
       "       ...,\n",
       "       [255, 255, 255, ..., 255, 255, 255],\n",
       "       [255, 255, 255, ..., 255, 255, 255],\n",
       "       [255, 255, 255, ..., 255, 255, 255]], dtype=uint8)"
      ]
     },
     "execution_count": 6,
     "metadata": {},
     "output_type": "execute_result"
    }
   ],
   "source": [
    "im_pillow[:,:,0]"
   ]
  },
  {
   "cell_type": "code",
   "execution_count": 7,
   "metadata": {},
   "outputs": [],
   "source": [
    "im_pillow_c1 = im_pillow[:,:,0]\n",
    "im_pillow_c2 = im_pillow[:,:,1]\n",
    "im_pillow_c3 = im_pillow[:,:,2]"
   ]
  },
  {
   "cell_type": "code",
   "execution_count": 8,
   "metadata": {},
   "outputs": [
    {
     "data": {
      "text/plain": [
       "(113, 321, 1)"
      ]
     },
     "execution_count": 8,
     "metadata": {},
     "output_type": "execute_result"
    }
   ],
   "source": [
    "zeros = np.zeros((im_pillow.shape[0],im_pillow.shape[1],1))\n",
    "zeros.shape"
   ]
  },
  {
   "cell_type": "code",
   "execution_count": 9,
   "metadata": {},
   "outputs": [
    {
     "data": {
      "text/plain": [
       "(113, 321)"
      ]
     },
     "execution_count": 9,
     "metadata": {},
     "output_type": "execute_result"
    }
   ],
   "source": [
    "im_pillow_c1.shape"
   ]
  },
  {
   "cell_type": "code",
   "execution_count": 10,
   "metadata": {},
   "outputs": [
    {
     "ename": "AxisError",
     "evalue": "axis 2 is out of bounds for array of dimension 2",
     "output_type": "error",
     "traceback": [
      "\u001b[1;31m---------------------------------------------------------------------------\u001b[0m",
      "\u001b[1;31mAxisError\u001b[0m                                 Traceback (most recent call last)",
      "\u001b[1;32md:\\gitrepos\\pytorch_in_action\\01_basic\\03_NumPy（下）_深度学习中的常用操作.ipynb Cell 9\u001b[0m line \u001b[0;36m1\n\u001b[1;32m----> <a href='vscode-notebook-cell:/d%3A/gitrepos/pytorch_in_action/01_basic/03_NumPy%EF%BC%88%E4%B8%8B%EF%BC%89_%E6%B7%B1%E5%BA%A6%E5%AD%A6%E4%B9%A0%E4%B8%AD%E7%9A%84%E5%B8%B8%E7%94%A8%E6%93%8D%E4%BD%9C.ipynb#X11sZmlsZQ%3D%3D?line=0'>1</a>\u001b[0m im_pillow_c1_3ch \u001b[39m=\u001b[39m np\u001b[39m.\u001b[39;49mconcatenate((im_pillow_c1, zeros, zeros),axis\u001b[39m=\u001b[39;49m\u001b[39m2\u001b[39;49m)\n",
      "\u001b[1;31mAxisError\u001b[0m: axis 2 is out of bounds for array of dimension 2"
     ]
    }
   ],
   "source": [
    "im_pillow_c1_3ch = np.concatenate((im_pillow_c1, zeros, zeros),axis=2)"
   ]
  },
  {
   "cell_type": "code",
   "execution_count": 11,
   "metadata": {},
   "outputs": [
    {
     "data": {
      "text/plain": [
       "((113, 321), (113, 321, 1))"
      ]
     },
     "execution_count": 11,
     "metadata": {},
     "output_type": "execute_result"
    }
   ],
   "source": [
    "im_pillow_c1.shape, zeros.shape"
   ]
  },
  {
   "cell_type": "markdown",
   "metadata": {},
   "source": [
    "### 方法一：使用 np.newaxis"
   ]
  },
  {
   "cell_type": "code",
   "execution_count": 12,
   "metadata": {},
   "outputs": [
    {
     "data": {
      "text/plain": [
       "(113, 321, 1)"
      ]
     },
     "execution_count": 12,
     "metadata": {},
     "output_type": "execute_result"
    }
   ],
   "source": [
    "im_pillow_c1 = im_pillow_c1[:,:,np.newaxis]\n",
    "im_pillow_c1.shape"
   ]
  },
  {
   "cell_type": "code",
   "execution_count": 13,
   "metadata": {},
   "outputs": [],
   "source": [
    "im_pillow_c1_3ch = np.concatenate((im_pillow_c1, zeros, zeros),axis=2)"
   ]
  },
  {
   "cell_type": "code",
   "execution_count": 14,
   "metadata": {},
   "outputs": [
    {
     "data": {
      "text/plain": [
       "(113, 321, 3)"
      ]
     },
     "execution_count": 14,
     "metadata": {},
     "output_type": "execute_result"
    }
   ],
   "source": [
    "im_pillow_c1_3ch.shape"
   ]
  },
  {
   "cell_type": "code",
   "execution_count": 15,
   "metadata": {},
   "outputs": [
    {
     "data": {
      "text/plain": [
       "(113, 321, 3)"
      ]
     },
     "execution_count": 15,
     "metadata": {},
     "output_type": "execute_result"
    }
   ],
   "source": [
    "im_pillow.shape"
   ]
  },
  {
   "cell_type": "markdown",
   "metadata": {},
   "source": [
    "### 方法二：直接赋值"
   ]
  },
  {
   "cell_type": "code",
   "execution_count": 16,
   "metadata": {},
   "outputs": [],
   "source": [
    "im_pillow_c2_3ch = np.zeros(im_pillow.shape)\n",
    "im_pillow_c2_3ch[:,:,1] = im_pillow_c2\n",
    "\n",
    "im_pillow_c3_3ch = np.zeros(im_pillow.shape)\n",
    "im_pillow_c3_3ch[:,:,2] = im_pillow_c3"
   ]
  },
  {
   "cell_type": "code",
   "execution_count": 17,
   "metadata": {},
   "outputs": [
    {
     "data": {
      "image/png": "[encoded data removed]",
      "text/plain": [
       "<Figure size 640x480 with 4 Axes>"
      ]
     },
     "metadata": {},
     "output_type": "display_data"
    }
   ],
   "source": [
    "from matplotlib import pyplot as plt\n",
    "plt.subplot(2, 2, 1)\n",
    "plt.title('Origin Image')\n",
    "plt.imshow(im_pillow)\n",
    "plt.axis('off')\n",
    "plt.subplot(2, 2, 2)\n",
    "plt.title('Red Channel')\n",
    "plt.imshow(im_pillow_c1_3ch.astype(np.uint8))\n",
    "plt.axis('off')\n",
    "plt.subplot(2, 2, 3)\n",
    "plt.title('Green Channel')\n",
    "plt.imshow(im_pillow_c2_3ch.astype(np.uint8))\n",
    "plt.axis('off')\n",
    "plt.subplot(2, 2, 4)\n",
    "plt.title('Blue Channel')\n",
    "plt.imshow(im_pillow_c3_3ch.astype(np.uint8))\n",
    "plt.axis('off')\n",
    "plt.savefig('./rgb_pillow.png', dpi=150)"
   ]
  },
  {
   "cell_type": "markdown",
   "metadata": {},
   "source": [
    "## 深拷贝（副本）与浅拷贝（视图）\n",
    "np.array() 属于深拷贝，np.asarray() 则是浅拷贝。"
   ]
  },
  {
   "cell_type": "code",
   "execution_count": 18,
   "metadata": {},
   "outputs": [
    {
     "ename": "ValueError",
     "evalue": "assignment destination is read-only",
     "output_type": "error",
     "traceback": [
      "\u001b[1;31m---------------------------------------------------------------------------\u001b[0m",
      "\u001b[1;31mValueError\u001b[0m                                Traceback (most recent call last)",
      "\u001b[1;32md:\\gitrepos\\pytorch_in_action\\01_basic\\03_NumPy（下）_深度学习中的常用操作.ipynb Cell 20\u001b[0m line \u001b[0;36m6\n\u001b[0;32m      <a href='vscode-notebook-cell:/d%3A/gitrepos/pytorch_in_action/01_basic/03_NumPy%EF%BC%88%E4%B8%8B%EF%BC%89_%E6%B7%B1%E5%BA%A6%E5%AD%A6%E4%B9%A0%E4%B8%AD%E7%9A%84%E5%B8%B8%E7%94%A8%E6%93%8D%E4%BD%9C.ipynb#X26sZmlsZQ%3D%3D?line=3'>4</a>\u001b[0m im \u001b[39m=\u001b[39m Image\u001b[39m.\u001b[39mopen(\u001b[39m'\u001b[39m\u001b[39mjk.jpg\u001b[39m\u001b[39m'\u001b[39m)\n\u001b[0;32m      <a href='vscode-notebook-cell:/d%3A/gitrepos/pytorch_in_action/01_basic/03_NumPy%EF%BC%88%E4%B8%8B%EF%BC%89_%E6%B7%B1%E5%BA%A6%E5%AD%A6%E4%B9%A0%E4%B8%AD%E7%9A%84%E5%B8%B8%E7%94%A8%E6%93%8D%E4%BD%9C.ipynb#X26sZmlsZQ%3D%3D?line=4'>5</a>\u001b[0m im_pillow \u001b[39m=\u001b[39m np\u001b[39m.\u001b[39masarray(im)\n\u001b[1;32m----> <a href='vscode-notebook-cell:/d%3A/gitrepos/pytorch_in_action/01_basic/03_NumPy%EF%BC%88%E4%B8%8B%EF%BC%89_%E6%B7%B1%E5%BA%A6%E5%AD%A6%E4%B9%A0%E4%B8%AD%E7%9A%84%E5%B8%B8%E7%94%A8%E6%93%8D%E4%BD%9C.ipynb#X26sZmlsZQ%3D%3D?line=5'>6</a>\u001b[0m im_pillow[:,:,\u001b[39m1\u001b[39;49m:]\u001b[39m=\u001b[39m\u001b[39m0\u001b[39m\n",
      "\u001b[1;31mValueError\u001b[0m: assignment destination is read-only"
     ]
    }
   ],
   "source": [
    "from PIL import Image\n",
    "import numpy as np\n",
    "\n",
    "im = Image.open('jk.jpg')\n",
    "im_pillow = np.asarray(im)\n",
    "im_pillow[:,:,1:]=0"
   ]
  },
  {
   "cell_type": "code",
   "execution_count": 19,
   "metadata": {},
   "outputs": [],
   "source": [
    "im_pillow = np.array(im)\n",
    "im_pillow[:,:,1:]=0"
   ]
  },
  {
   "cell_type": "markdown",
   "metadata": {},
   "source": [
    "## Argmax Vs Argmin：求最大 / 最小值对应的索引"
   ]
  },
  {
   "cell_type": "markdown",
   "metadata": {},
   "source": [
    "## Argsort：数组排序后返回原数组的索引"
   ]
  },
  {
   "cell_type": "code",
   "execution_count": 20,
   "metadata": {},
   "outputs": [],
   "source": [
    "scores = np.random.rand(256, 256, 2)\n",
    "scores[:,:,1] = 1 - scores[:,:,0]"
   ]
  },
  {
   "cell_type": "code",
   "execution_count": 21,
   "metadata": {},
   "outputs": [
    {
     "data": {
      "text/plain": [
       "array([[[0.72792554, 0.27207446],\n",
       "        [0.86393625, 0.13606375],\n",
       "        [0.89090283, 0.10909717],\n",
       "        ...,\n",
       "        [0.71140351, 0.28859649],\n",
       "        [0.0540203 , 0.9459797 ],\n",
       "        [0.32017783, 0.67982217]],\n",
       "\n",
       "       [[0.51668748, 0.48331252],\n",
       "        [0.19489799, 0.80510201],\n",
       "        [0.38687671, 0.61312329],\n",
       "        ...,\n",
       "        [0.12986715, 0.87013285],\n",
       "        [0.3918269 , 0.6081731 ],\n",
       "        [0.74782853, 0.25217147]],\n",
       "\n",
       "       [[0.43816625, 0.56183375],\n",
       "        [0.77994057, 0.22005943],\n",
       "        [0.44800122, 0.55199878],\n",
       "        ...,\n",
       "        [0.42767822, 0.57232178],\n",
       "        [0.36171035, 0.63828965],\n",
       "        [0.57130472, 0.42869528]],\n",
       "\n",
       "       ...,\n",
       "\n",
       "       [[0.16742908, 0.83257092],\n",
       "        [0.411929  , 0.588071  ],\n",
       "        [0.34495904, 0.65504096],\n",
       "        ...,\n",
       "        [0.80112029, 0.19887971],\n",
       "        [0.23830965, 0.76169035],\n",
       "        [0.50991358, 0.49008642]],\n",
       "\n",
       "       [[0.8950677 , 0.1049323 ],\n",
       "        [0.5332825 , 0.4667175 ],\n",
       "        [0.18843744, 0.81156256],\n",
       "        ...,\n",
       "        [0.24739412, 0.75260588],\n",
       "        [0.89058376, 0.10941624],\n",
       "        [0.48724111, 0.51275889]],\n",
       "\n",
       "       [[0.43277929, 0.56722071],\n",
       "        [0.71072524, 0.28927476],\n",
       "        [0.86907558, 0.13092442],\n",
       "        ...,\n",
       "        [0.86344945, 0.13655055],\n",
       "        [0.2685305 , 0.7314695 ],\n",
       "        [0.35158641, 0.64841359]]])"
      ]
     },
     "execution_count": 21,
     "metadata": {},
     "output_type": "execute_result"
    }
   ],
   "source": [
    "scores"
   ]
  },
  {
   "cell_type": "code",
   "execution_count": 22,
   "metadata": {},
   "outputs": [
    {
     "data": {
      "text/plain": [
       "(256, 256, 2)"
      ]
     },
     "execution_count": 22,
     "metadata": {},
     "output_type": "execute_result"
    }
   ],
   "source": [
    "scores.shape"
   ]
  },
  {
   "cell_type": "code",
   "execution_count": 40,
   "metadata": {},
   "outputs": [
    {
     "data": {
      "text/plain": [
       "(array([[ True,  True,  True, ...,  True, False, False],\n",
       "        [ True, False, False, ..., False, False,  True],\n",
       "        [False,  True, False, ..., False, False,  True],\n",
       "        ...,\n",
       "        [False, False, False, ...,  True, False,  True],\n",
       "        [ True,  True, False, ..., False,  True, False],\n",
       "        [False,  True,  True, ...,  True, False, False]]),\n",
       " array([[0, 0, 0, ..., 0, 1, 1],\n",
       "        [0, 1, 1, ..., 1, 1, 0],\n",
       "        [1, 0, 1, ..., 1, 1, 0],\n",
       "        ...,\n",
       "        [1, 1, 1, ..., 0, 1, 0],\n",
       "        [0, 0, 1, ..., 1, 0, 1],\n",
       "        [1, 0, 0, ..., 0, 1, 1]]))"
      ]
     },
     "execution_count": 40,
     "metadata": {},
     "output_type": "execute_result"
    }
   ],
   "source": [
    "scores[:,:,0] > scores[:,:,1], (scores[:,:,0] < scores[:,:,1]).astype(int)"
   ]
  },
  {
   "cell_type": "code",
   "execution_count": 33,
   "metadata": {},
   "outputs": [
    {
     "data": {
      "text/plain": [
       "array([[0, 0, 0, ..., 0, 1, 1],\n",
       "       [0, 1, 1, ..., 1, 1, 0],\n",
       "       [1, 0, 1, ..., 1, 1, 0],\n",
       "       ...,\n",
       "       [1, 1, 1, ..., 0, 1, 0],\n",
       "       [0, 0, 1, ..., 1, 0, 1],\n",
       "       [1, 0, 0, ..., 0, 1, 1]])"
      ]
     },
     "execution_count": 33,
     "metadata": {},
     "output_type": "execute_result"
    }
   ],
   "source": [
    "mask = (scores[:,:,0] < scores[:,:,1]).astype(int)\n",
    "mask"
   ]
  },
  {
   "cell_type": "code",
   "execution_count": 36,
   "metadata": {},
   "outputs": [
    {
     "data": {
      "text/plain": [
       "array([[0, 0, 0, ..., 0, 1, 1],\n",
       "       [0, 1, 1, ..., 1, 1, 0],\n",
       "       [1, 0, 1, ..., 1, 1, 0],\n",
       "       ...,\n",
       "       [1, 1, 1, ..., 0, 1, 0],\n",
       "       [0, 0, 1, ..., 1, 0, 1],\n",
       "       [1, 0, 0, ..., 0, 1, 1]], dtype=int64)"
      ]
     },
     "execution_count": 36,
     "metadata": {},
     "output_type": "execute_result"
    }
   ],
   "source": [
    "mask=np.argmax(scores,axis=2)\n",
    "mask"
   ]
  },
  {
   "cell_type": "code",
   "execution_count": 34,
   "metadata": {},
   "outputs": [
    {
     "data": {
      "text/plain": [
       "(256, 256, 2)"
      ]
     },
     "execution_count": 34,
     "metadata": {},
     "output_type": "execute_result"
    }
   ],
   "source": [
    "scores.shape"
   ]
  },
  {
   "cell_type": "code",
   "execution_count": null,
   "metadata": {},
   "outputs": [],
   "source": []
  }
 ],
 "metadata": {
  "kernelspec": {
   "display_name": "transformers",
   "language": "python",
   "name": "python3"
  },
  "language_info": {
   "codemirror_mode": {
    "name": "ipython",
    "version": 3
   },
   "file_extension": ".py",
   "mimetype": "text/x-python",
   "name": "python",
   "nbconvert_exporter": "python",
   "pygments_lexer": "ipython3",
   "version": "3.10.0"
  },
  "orig_nbformat": 4
 },
 "nbformat": 4,
 "nbformat_minor": 2
}
